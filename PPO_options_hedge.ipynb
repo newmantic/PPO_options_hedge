{
  "nbformat": 4,
  "nbformat_minor": 0,
  "metadata": {
    "colab": {
      "provenance": [],
      "authorship_tag": "ABX9TyPdHEtf4aC14uiq4blLXFnE",
      "include_colab_link": true
    },
    "kernelspec": {
      "name": "python3",
      "display_name": "Python 3"
    },
    "language_info": {
      "name": "python"
    }
  },
  "cells": [
    {
      "cell_type": "markdown",
      "metadata": {
        "id": "view-in-github",
        "colab_type": "text"
      },
      "source": [
        "<a href=\"https://colab.research.google.com/github/newmantic/PPO_options_hedge/blob/main/PPO_options_hedge.ipynb\" target=\"_parent\"><img src=\"https://colab.research.google.com/assets/colab-badge.svg\" alt=\"Open In Colab\"/></a>"
      ]
    },
    {
      "cell_type": "code",
      "execution_count": null,
      "metadata": {
        "id": "C6vCbrFZvHa4"
      },
      "outputs": [],
      "source": [
        "!pip install gym pandas numpy gymnasium shimmy stable-baselines3[extra]\n",
        "\n",
        "import gymnasium as gym  # Use gymnasium instead of gym\n",
        "import numpy as np\n",
        "import pandas as pd\n",
        "from stable_baselines3 import PPO\n",
        "from stable_baselines3.common.vec_env import DummyVecEnv  # Corrected import from vec_env\n",
        "from gymnasium import spaces  # Gymnasium's updated spaces\n"
      ]
    },
    {
      "cell_type": "code",
      "source": [
        "\n",
        "# Define the custom environment\n",
        "class OptionTradingEnv(gym.Env):  # Use gym.Env from gymnasium\n",
        "    def __init__(self, data):\n",
        "        super(OptionTradingEnv, self).__init__()\n",
        "\n",
        "        # Load historical market data (price, volatility, option Greeks, etc.)\n",
        "        self.data = data\n",
        "        self.current_step = 0\n",
        "\n",
        "        # Define the state space: features like prices, Greeks, volatility, etc.\n",
        "        self.observation_space = spaces.Box(low=-np.inf, high=np.inf, shape=(self.data.shape[1],), dtype=np.float32)\n",
        "\n",
        "        # Define the action space: amount of options to trade (continuous between -1 to 1)\n",
        "        # Negative values mean selling, positive means buying\n",
        "        self.action_space = spaces.Box(low=-1, high=1, shape=(1,), dtype=np.float32)\n",
        "\n",
        "    def reset(self, seed=None, options=None):\n",
        "        # Handle the random seed\n",
        "        if seed is not None:\n",
        "            self.np_random, _ = gym.utils.seeding.np_random(seed)\n",
        "        self.current_step = 0\n",
        "        return self.data.iloc[self.current_step].values, {}\n",
        "\n",
        "    def step(self, action):\n",
        "        # Apply action to the environment (trading an option)\n",
        "        current_state = self.data.iloc[self.current_step].values\n",
        "        next_state = self.data.iloc[self.current_step + 1].values\n",
        "        done = self.current_step >= len(self.data) - 2\n",
        "\n",
        "        # Action represents the trading size (scaled between -1 and 1)\n",
        "        trading_size = action[0] * 100  # Scale action to actual size\n",
        "\n",
        "        # Define the reward based on profit/loss\n",
        "        option_price_change = next_state[0] - current_state[0]  # Assumed index for option price\n",
        "        reward = trading_size * option_price_change\n",
        "\n",
        "        # Add risk penalty (e.g., higher trading size increases risk)\n",
        "        reward -= 0.01 * np.abs(trading_size)\n",
        "\n",
        "        self.current_step += 1\n",
        "\n",
        "        return next_state, reward, done, {}, {}\n",
        "\n",
        "    def render(self, mode='human'):\n",
        "        # Optionally implement rendering of the trading environment\n",
        "        pass\n",
        "\n"
      ],
      "metadata": {
        "id": "kV4AYgLOwaBX"
      },
      "execution_count": 16,
      "outputs": []
    },
    {
      "cell_type": "code",
      "source": [
        "# Load historical data (dummy data in this example)\n",
        "data = pd.DataFrame({\n",
        "    'option_price': np.random.randn(1000),   # Example option prices\n",
        "    'delta': np.random.randn(1000),          # Option delta\n",
        "    'gamma': np.random.randn(1000),          # Option gamma\n",
        "    'vega': np.random.randn(1000),           # Option vega\n",
        "    'theta': np.random.randn(1000),          # Option theta\n",
        "    'volatility': np.random.randn(1000),     # Market volatility (VIX)\n",
        "})\n",
        "\n",
        "# Create the environment\n",
        "env = OptionTradingEnv(data)\n",
        "env = DummyVecEnv([lambda: env])  # PPO requires a vectorized environment\n",
        "\n",
        "# Create and train the PPO agent\n",
        "model = PPO(\"MlpPolicy\", env, verbose=1)\n",
        "model.learn(total_timesteps=10000)\n",
        "\n",
        "\n",
        "\n"
      ],
      "metadata": {
        "colab": {
          "base_uri": "https://localhost:8080/"
        },
        "id": "48EkcObowc3N",
        "outputId": "398686be-6ed1-41cc-db62-52d7b7b2a826"
      },
      "execution_count": 20,
      "outputs": [
        {
          "output_type": "stream",
          "name": "stdout",
          "text": [
            "Using cpu device\n",
            "-----------------------------\n",
            "| time/              |      |\n",
            "|    fps             | 966  |\n",
            "|    iterations      | 1    |\n",
            "|    time_elapsed    | 2    |\n",
            "|    total_timesteps | 2048 |\n",
            "-----------------------------\n",
            "-----------------------------------------\n",
            "| time/                   |             |\n",
            "|    fps                  | 671         |\n",
            "|    iterations           | 2           |\n",
            "|    time_elapsed         | 6           |\n",
            "|    total_timesteps      | 4096        |\n",
            "| train/                  |             |\n",
            "|    approx_kl            | 0.011296996 |\n",
            "|    clip_fraction        | 0.104       |\n",
            "|    clip_range           | 0.2         |\n",
            "|    entropy_loss         | -1.41       |\n",
            "|    explained_variance   | 5.32e-05    |\n",
            "|    learning_rate        | 0.0003      |\n",
            "|    loss                 | 4.07e+04    |\n",
            "|    n_updates            | 10          |\n",
            "|    policy_gradient_loss | -0.0168     |\n",
            "|    std                  | 0.99        |\n",
            "|    value_loss           | 9.86e+04    |\n",
            "-----------------------------------------\n",
            "-----------------------------------------\n",
            "| time/                   |             |\n",
            "|    fps                  | 671         |\n",
            "|    iterations           | 3           |\n",
            "|    time_elapsed         | 9           |\n",
            "|    total_timesteps      | 6144        |\n",
            "| train/                  |             |\n",
            "|    approx_kl            | 0.011475054 |\n",
            "|    clip_fraction        | 0.108       |\n",
            "|    clip_range           | 0.2         |\n",
            "|    entropy_loss         | -1.4        |\n",
            "|    explained_variance   | -0.000316   |\n",
            "|    learning_rate        | 0.0003      |\n",
            "|    loss                 | 6.92e+04    |\n",
            "|    n_updates            | 20          |\n",
            "|    policy_gradient_loss | -0.0205     |\n",
            "|    std                  | 0.977       |\n",
            "|    value_loss           | 1.18e+05    |\n",
            "-----------------------------------------\n",
            "-----------------------------------------\n",
            "| time/                   |             |\n",
            "|    fps                  | 655         |\n",
            "|    iterations           | 4           |\n",
            "|    time_elapsed         | 12          |\n",
            "|    total_timesteps      | 8192        |\n",
            "| train/                  |             |\n",
            "|    approx_kl            | 0.007929924 |\n",
            "|    clip_fraction        | 0.0582      |\n",
            "|    clip_range           | 0.2         |\n",
            "|    entropy_loss         | -1.39       |\n",
            "|    explained_variance   | 0.00018     |\n",
            "|    learning_rate        | 0.0003      |\n",
            "|    loss                 | 8.1e+04     |\n",
            "|    n_updates            | 30          |\n",
            "|    policy_gradient_loss | -0.0153     |\n",
            "|    std                  | 0.969       |\n",
            "|    value_loss           | 1.72e+05    |\n",
            "-----------------------------------------\n",
            "------------------------------------------\n",
            "| time/                   |              |\n",
            "|    fps                  | 583          |\n",
            "|    iterations           | 5            |\n",
            "|    time_elapsed         | 17           |\n",
            "|    total_timesteps      | 10240        |\n",
            "| train/                  |              |\n",
            "|    approx_kl            | 0.0037596351 |\n",
            "|    clip_fraction        | 0.0116       |\n",
            "|    clip_range           | 0.2          |\n",
            "|    entropy_loss         | -1.39        |\n",
            "|    explained_variance   | 0.000111     |\n",
            "|    learning_rate        | 0.0003       |\n",
            "|    loss                 | 1.47e+05     |\n",
            "|    n_updates            | 40           |\n",
            "|    policy_gradient_loss | -0.00788     |\n",
            "|    std                  | 0.965        |\n",
            "|    value_loss           | 3.6e+05      |\n",
            "------------------------------------------\n"
          ]
        },
        {
          "output_type": "execute_result",
          "data": {
            "text/plain": [
              "<stable_baselines3.ppo.ppo.PPO at 0x7edb3b2ba350>"
            ]
          },
          "metadata": {},
          "execution_count": 20
        }
      ]
    },
    {
      "cell_type": "code",
      "source": [
        "# Test the trained agent\n",
        "\n",
        "obs = env.reset()\n",
        "for i in range(100):\n",
        "    action, _states = model.predict(obs)\n",
        "    obs, reward, done, _= env.step(action)\n",
        "    if done:\n",
        "        break\n",
        "\n",
        "# Save the model\n",
        "model.save(\"ppo_option_trading\")\n",
        "\n",
        "# Load the model for future use\n",
        "model = PPO.load(\"ppo_option_trading\")"
      ],
      "metadata": {
        "id": "V_PyRuYdwhBG"
      },
      "execution_count": 21,
      "outputs": []
    }
  ]
}